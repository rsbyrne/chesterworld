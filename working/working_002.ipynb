{
 "cells": [
  {
   "cell_type": "code",
   "execution_count": 42,
   "metadata": {},
   "outputs": [],
   "source": [
    "from functools import lru_cache as _lru_cache\n",
    "import numpy as _np\n",
    "\n",
    "class ChestersWorld:\n",
    "    def __init__(self,\n",
    "            nAgents = int(1e5),\n",
    "            nPlaces = int(1e4),\n",
    "            nTimes = 24 * 4,\n",
    "            nCases = 100,\n",
    "            rSeed = 1066,\n",
    "            chance = 0.1,\n",
    "            ):\n",
    "        self.nAgents, self.nPlaces, self.nTimes, self.nCases, self.rSeed, self.chance = \\\n",
    "            nAgents, nPlaces, nTimes, nCases, rSeed, chance\n",
    "    def initialise(self):\n",
    "        nAgents, nPlaces, nTimes, nCases, rSeed = \\\n",
    "            self.nAgents, self.nPlaces, self.nTimes, self.nCases, self.rSeed\n",
    "        self.rng = rng = _np.random.default_rng(rSeed)\n",
    "        self.schedule = _np.random.randint(1, nPlaces, (nAgents, nTimes), dtype = 'uint32')\n",
    "        self.status = status = _np.zeros(nAgents, dtype = bool)\n",
    "        status[rng.choice(_np.arange(nAgents), nCases, replace = False)] = True\n",
    "        self.contactLog = []\n",
    "        self.day = 0\n",
    "    def iterate(self):\n",
    "        schedule, status, contactLog, day, rng, chance = \\\n",
    "            self.schedule, self.status, self.contactLog, self.day, self.rng, self.chance\n",
    "        for contacter in _np.nonzero(status)[0]:\n",
    "            colocs = _np.argwhere(schedule == schedule[contacter])\n",
    "            for contactee, timeSlot in colocs:\n",
    "                place = schedule[contactee, timeSlot]\n",
    "                if rng.random() < chance:\n",
    "                    contactEvent = (day, timeSlot, place, contacter, contactee)\n",
    "                    contactLog.append(contactEvent)\n",
    "        day += 1\n",
    "    def go(self, n, /):\n",
    "        for i in range(n):\n",
    "            self.iterate()\n",
    "    def __hash__(self):\n",
    "        return hash((self.nAgents, self.nPlaces, self.nTimes))"
   ]
  },
  {
   "cell_type": "code",
   "execution_count": 55,
   "metadata": {},
   "outputs": [],
   "source": [
    "mymodel = ChestersWorld(\n",
    "    nAgents = int(1e6),\n",
    "    nPlaces = int(1e5),\n",
    "    nTimes = 24 * 6,\n",
    "    nCases = 1,\n",
    "    )"
   ]
  },
  {
   "cell_type": "code",
   "execution_count": 56,
   "metadata": {},
   "outputs": [],
   "source": [
    "# %%timeit\n",
    "mymodel.initialise()"
   ]
  },
  {
   "cell_type": "code",
   "execution_count": 57,
   "metadata": {},
   "outputs": [
    {
     "name": "stdout",
     "output_type": "stream",
     "text": [
      "1.36 s ± 212 ms per loop (mean ± std. dev. of 7 runs, 1 loop each)\n"
     ]
    }
   ],
   "source": [
    "%%timeit\n",
    "mymodel.iterate()"
   ]
  },
  {
   "cell_type": "code",
   "execution_count": 67,
   "metadata": {},
   "outputs": [
    {
     "data": {
      "text/plain": [
       "0.54931640625"
      ]
     },
     "execution_count": 67,
     "metadata": {},
     "output_type": "execute_result"
    }
   ],
   "source": [
    "mymodel.schedule.nbytes / 2 ** 20"
   ]
  },
  {
   "cell_type": "code",
   "execution_count": null,
   "metadata": {},
   "outputs": [],
   "source": [
    "_np.argwhere"
   ]
  },
  {
   "cell_type": "code",
   "execution_count": null,
   "metadata": {},
   "outputs": [],
   "source": []
  },
  {
   "cell_type": "code",
   "execution_count": 58,
   "metadata": {},
   "outputs": [],
   "source": [
    "myarr = _np.random.randint(1, 50, (30, 10))"
   ]
  },
  {
   "cell_type": "code",
   "execution_count": 59,
   "metadata": {},
   "outputs": [
    {
     "data": {
      "text/plain": [
       "array([[42, 36, 33, 47, 40, 27, 27, 12, 23, 37],\n",
       "       [ 1, 25, 18, 13,  3, 33, 46, 44, 31, 17],\n",
       "       [ 2, 35, 34, 38,  3,  2, 43, 20, 40, 21],\n",
       "       [30, 43, 15, 32, 12, 23, 37, 15, 22, 11],\n",
       "       [ 6, 20, 15, 18,  3, 48, 24, 37, 18, 49],\n",
       "       [33, 20, 41, 27, 22, 39, 17, 26, 33, 18],\n",
       "       [ 8, 14, 44, 25,  3, 45,  4, 33, 40, 27],\n",
       "       [20,  1,  7, 20, 25, 12, 46, 12, 28,  3],\n",
       "       [18, 36, 24,  9, 41, 38,  8, 49, 14, 44],\n",
       "       [ 8, 34, 24, 33, 13, 43, 31, 14, 41, 39],\n",
       "       [24, 13, 20,  3,  9, 36, 49,  8, 28,  1],\n",
       "       [44, 34, 31, 35, 48, 44, 44, 35, 27, 17],\n",
       "       [40, 24, 17,  5, 48, 13, 43, 39, 44, 42],\n",
       "       [24, 44, 12, 11,  8, 18, 22, 22,  9, 10],\n",
       "       [ 4, 23, 42,  5, 48, 16, 47, 30, 16, 48],\n",
       "       [25, 14, 30, 29, 30, 19, 19, 19, 18,  9],\n",
       "       [35, 14, 20, 45, 39,  6, 17, 40, 29, 17],\n",
       "       [25, 35, 41, 28, 45, 33, 19, 21, 10, 16],\n",
       "       [30,  4, 26, 29, 44, 14, 24, 36,  4, 43],\n",
       "       [29, 47, 22,  9,  3,  9, 46, 33, 20,  4],\n",
       "       [19, 21, 41, 35, 23, 31,  3, 41, 35, 24],\n",
       "       [34, 16, 30, 45, 31,  9, 21, 40, 14, 12],\n",
       "       [34,  7, 42, 15, 25, 26, 21, 26, 22, 31],\n",
       "       [48, 21, 42, 42, 23, 19, 17, 33,  6, 32],\n",
       "       [ 6, 39, 23, 31, 28,  7, 39, 26, 11, 22],\n",
       "       [ 7, 28,  3, 10,  2, 46, 19, 49,  3, 28],\n",
       "       [34, 25, 10, 13, 18, 12, 28, 48, 45,  1],\n",
       "       [29, 12,  8, 36, 14, 20, 18,  3, 39,  7],\n",
       "       [21, 28, 17, 27,  9, 38, 47, 28, 22, 36],\n",
       "       [27, 32,  5, 42, 31,  1, 46, 48, 16,  1]])"
      ]
     },
     "execution_count": 59,
     "metadata": {},
     "output_type": "execute_result"
    }
   ],
   "source": [
    "myarr"
   ]
  },
  {
   "cell_type": "code",
   "execution_count": 60,
   "metadata": {},
   "outputs": [],
   "source": [
    "bigarr = _np.random.randint(1, int(1e2), (30, 10))\n",
    "selector = _np.random.randint(1, int(1e2), 10)"
   ]
  },
  {
   "cell_type": "code",
   "execution_count": 61,
   "metadata": {},
   "outputs": [
    {
     "data": {
      "text/plain": [
       "0.002288818359375"
      ]
     },
     "execution_count": 61,
     "metadata": {},
     "output_type": "execute_result"
    }
   ],
   "source": [
    "bigarr.nbytes / 2 ** 20"
   ]
  },
  {
   "cell_type": "code",
   "execution_count": 63,
   "metadata": {},
   "outputs": [
    {
     "data": {
      "text/plain": [
       "array([[71, 45, 23, 15, 16, 81, 21, 72, 62, 54],\n",
       "       [39, 99, 16, 62,  6, 87, 34, 60, 70, 54],\n",
       "       [29, 60,  7, 74,  3, 94, 70, 94, 35, 49],\n",
       "       [63,  3, 90,  8, 84, 11, 61, 54, 32, 70],\n",
       "       [91, 44,  8, 37, 67, 93, 45,  6, 25, 10],\n",
       "       [ 6, 54, 29, 51, 99, 40, 27, 84, 60, 55],\n",
       "       [62, 40, 34, 62, 78, 60,  4, 48, 83, 72],\n",
       "       [74, 68, 10, 28, 63, 78, 13, 53, 13, 56],\n",
       "       [77, 57, 99, 34, 29, 13, 94, 68, 55, 67],\n",
       "       [49, 58, 61, 48, 49, 43, 48, 83, 82, 74],\n",
       "       [40, 43, 11, 26,  3, 90, 24, 89, 46,  3],\n",
       "       [25,  5, 73, 20, 70, 52,  4, 97, 22,  5],\n",
       "       [91, 29, 62, 27, 13, 14, 74,  8, 25, 35],\n",
       "       [27, 41,  4, 83,  5, 39, 19, 76, 33, 12],\n",
       "       [61, 23, 67, 63, 95, 13,  7, 40, 71, 92],\n",
       "       [78, 48,  2, 45, 35, 88, 43, 12, 47,  7],\n",
       "       [91, 88, 78, 21, 64, 92, 95, 66,  9,  8],\n",
       "       [20, 29, 69, 63, 91,  2, 49, 33, 96, 88],\n",
       "       [60, 53, 16, 18, 44, 12, 23, 64, 79, 76],\n",
       "       [94, 28, 86, 60, 56, 55, 99, 97, 24, 24],\n",
       "       [19, 75,  3, 58, 66, 73, 32, 77, 11, 92],\n",
       "       [72,  3, 66, 84, 88, 95, 24, 60, 37,  1],\n",
       "       [62, 37, 13, 56, 88,  5, 99, 49, 42, 42],\n",
       "       [78, 36, 77, 68, 51, 98, 15, 96, 21, 14],\n",
       "       [ 2, 57,  8, 41, 65, 32, 40, 30, 34, 26],\n",
       "       [32, 93, 25, 59, 79, 90, 84, 73, 28, 54],\n",
       "       [21, 99, 10, 58, 94, 84, 42,  7, 40, 55],\n",
       "       [61,  6,  7, 52, 75, 37, 95, 19, 22, 77],\n",
       "       [29, 33, 64, 81, 91,  4, 53, 69,  1, 12],\n",
       "       [67, 20, 93, 37, 38, 26, 85, 81, 86, 33]])"
      ]
     },
     "execution_count": 63,
     "metadata": {},
     "output_type": "execute_result"
    }
   ],
   "source": [
    "bigarr"
   ]
  },
  {
   "cell_type": "code",
   "execution_count": 64,
   "metadata": {},
   "outputs": [
    {
     "data": {
      "text/plain": [
       "array([False,  True,  True,  True,  True,  True,  True,  True,  True,\n",
       "        True])"
      ]
     },
     "execution_count": 64,
     "metadata": {},
     "output_type": "execute_result"
    }
   ],
   "source": [
    "_np.isin(selector, bigarr)"
   ]
  },
  {
   "cell_type": "code",
   "execution_count": null,
   "metadata": {},
   "outputs": [],
   "source": []
  },
  {
   "cell_type": "code",
   "execution_count": null,
   "metadata": {},
   "outputs": [],
   "source": []
  },
  {
   "cell_type": "code",
   "execution_count": null,
   "metadata": {},
   "outputs": [],
   "source": []
  },
  {
   "cell_type": "code",
   "execution_count": 62,
   "metadata": {},
   "outputs": [
    {
     "name": "stdout",
     "output_type": "stream",
     "text": [
      "30.8 µs ± 1.39 µs per loop (mean ± std. dev. of 7 runs, 10000 loops each)\n"
     ]
    }
   ],
   "source": [
    "%%timeit\n",
    "_np.argwhere(bigarr == selector)"
   ]
  },
  {
   "cell_type": "code",
   "execution_count": 59,
   "metadata": {},
   "outputs": [
    {
     "name": "stdout",
     "output_type": "stream",
     "text": [
      "269 ms ± 3.85 ms per loop (mean ± std. dev. of 7 runs, 1 loop each)\n"
     ]
    }
   ],
   "source": [
    "%%timeit\n",
    "equals = bigarr == selection"
   ]
  },
  {
   "cell_type": "code",
   "execution_count": null,
   "metadata": {},
   "outputs": [],
   "source": [
    "from timeit import "
   ]
  }
 ],
 "metadata": {
  "kernelspec": {
   "display_name": "Python 3",
   "language": "python",
   "name": "python3"
  },
  "language_info": {
   "codemirror_mode": {
    "name": "ipython",
    "version": 3
   },
   "file_extension": ".py",
   "mimetype": "text/x-python",
   "name": "python",
   "nbconvert_exporter": "python",
   "pygments_lexer": "ipython3",
   "version": "3.8.5"
  }
 },
 "nbformat": 4,
 "nbformat_minor": 4
}
